{
 "cells": [
  {
   "cell_type": "markdown",
   "id": "349e572e",
   "metadata": {},
   "source": [
    "_Author:_ Eric Bruning, Texas Tech University, 11 June 2021"
   ]
  },
  {
   "cell_type": "markdown",
   "id": "df258d0d",
   "metadata": {},
   "source": [
    "## The joy of the always-transformable 3D earth-centered, earth-fixed coordinate\n",
    "\n",
    "The basic principle we'll exploit here is that geodetic latitude, longitude, and altitude are a proper 3D coordinate basis referenced with repsect to an ellipsoid. Those coordinates can be mapped, with no approximations, forward and backward to any other 3D coordinate basis, including a cartesian system located at the center of the earth, and which rotates with the earth."
   ]
  },
  {
   "cell_type": "markdown",
   "id": "703c06f4",
   "metadata": {},
   "source": [
    "## Setup"
   ]
  },
  {
   "cell_type": "code",
   "execution_count": 1,
   "id": "24e1e823",
   "metadata": {},
   "outputs": [],
   "source": [
    "import numpy as np\n",
    "import pyproj as proj4\n",
    "\n",
    "def centers_to_edges(x):\n",
    "    xedge=np.zeros(x.shape[0]+1)\n",
    "    xedge[1:-1] = (x[:-1] + x[1:])/2.0\n",
    "    dx = np.mean(np.abs(xedge[2:-1] - xedge[1:-2]))\n",
    "    xedge[0] = xedge[1] - dx\n",
    "    xedge[-1] = xedge[-2] + dx\n",
    "    return xedge\n"
   ]
  },
  {
   "cell_type": "code",
   "execution_count": 2,
   "id": "30a46832",
   "metadata": {
    "tags": []
   },
   "outputs": [],
   "source": [
    "def get_proj(ctr_lon, ctr_lat):\n",
    "    # Define a WGS84 earth (just to show doing so for an arbitrary globe)\n",
    "    earth_major, earth_minor =  6378137.0, 6356752.3142\n",
    "    hou_ctr_lat, hou_ctr_lon = ctr_lat, ctr_lon\n",
    "    # x, y = np.meshgrid(x,y)\n",
    "    stereo = proj4.crs.CRS(proj='stere', a=earth_major, b=earth_minor,\n",
    "                         lat_0=hou_ctr_lat, lon_0=hou_ctr_lon)\n",
    "    lla = proj4.crs.CRS(proj='latlong', a=earth_major, b=earth_minor)\n",
    "    ecef = proj4.crs.CRS(proj='geocent', a=earth_major, b=earth_minor)\n",
    "\n",
    "    return lla, ecef, stereo\n",
    "\n",
    "def get_grid_ctr_edge(dlat=0.1, dlon=0.1, dalt=1000.0, ctr_lon=0.0, ctr_lat=0):\n",
    "    hou_ctr_lat, hou_ctr_lon = ctr_lat, ctr_lon\n",
    "    nlon, nlat = 50, 50\n",
    "    nalt = 50\n",
    "    lon = dlon*(np.arange(nlon, dtype='float') - nlon/2) + dlon/2\n",
    "    lat = dlat*(np.arange(nlat, dtype='float') - nlat/2) + dlat/2\n",
    "    alt = dalt*(np.arange(nalt, dtype='float') - nalt/2) + dalt/2\n",
    "    lon += hou_lon\n",
    "    lat += hou_lat\n",
    "    alt += hou_alt - alt.min()\n",
    "    lon_edge = centers_to_edges(lon)\n",
    "    lat_edge = centers_to_edges(lat)\n",
    "    alt_edge = centers_to_edges(alt)\n",
    "    return lon, lat, alt, lon_edge, lat_edge, alt_edge\n",
    "\n"
   ]
  },
  {
   "cell_type": "markdown",
   "id": "8bd07797",
   "metadata": {},
   "source": [
    "Set up coordinate systems and transformers between each"
   ]
  },
  {
   "cell_type": "code",
   "execution_count": 3,
   "id": "eab25805",
   "metadata": {},
   "outputs": [],
   "source": [
    "hou_lat, hou_lon, hou_alt = 29.4719, -95.0792, 0.0\n",
    "\n",
    "lla, ecef, stereo = get_proj(hou_lon, hou_lat)\n",
    "lon, lat, alt, lon_edge, lat_edge, alt_edge = get_grid_ctr_edge(ctr_lon=hou_lon, ctr_lat=hou_lat)\n",
    "\n",
    "lla_to_ecef = proj4.Transformer.from_crs(lla, ecef)"
   ]
  },
  {
   "cell_type": "markdown",
   "id": "6e800a16",
   "metadata": {},
   "source": [
    "Where is our center location in earth-centered, earth-fixed cartesian coordinates? _ECEF X, Y, and Z have nothing to do with east, north, and up_. Rather, their unit vectors point from the earth center toward z=north pole, x=(0°N,0°E) and y=(0°N, 90°E), the right handed vector with x and z. See the [WGS84 implementation manual, Appendix B.](https://www.icao.int/safety/pbn/Documentation/EUROCONTROL/Eurocontrol%20WGS%2084%20Implementation%20Manual.pdf)\n",
    "\n",
    "It'll be a big number in kilometers, in each vector component, and absolute distance from Earth's center should be close to 6370 km. "
   ]
  },
  {
   "cell_type": "code",
   "execution_count": 4,
   "id": "12579b4d",
   "metadata": {},
   "outputs": [
    {
     "name": "stdout",
     "output_type": "stream",
     "text": [
      "-492.00206497852935 -5535.470031072471 3119.543449811821\n",
      "6372.9934749777085\n"
     ]
    }
   ],
   "source": [
    "Xctr_ecef, Yctr_ecef, Zctr_ecef = lla_to_ecef.transform(hou_lon, hou_lat, hou_alt)\n",
    "\n",
    "print(Xctr_ecef/1000, Yctr_ecef/1000, Zctr_ecef/1000)\n",
    "\n",
    "def distance_3d(x,y,z):\n",
    "    \"\"\" Given x, y, and z distances from (0,0,0), find the total distance along a ray from the origin\"\"\"\n",
    "    return(np.sqrt(x*x + y*y +z*z))\n",
    "\n",
    "hou_distance_from_earth_center = distance_3d(Xctr_ecef/1000, Yctr_ecef/1000, Zctr_ecef/1000)\n",
    "print(hou_distance_from_earth_center)"
   ]
  },
  {
   "cell_type": "markdown",
   "id": "48090a7f",
   "metadata": {},
   "source": [
    "Next we'll create a 3D mesh of lat, lon, alt that corresponds to regular geodetic coordinates. These arrays are redundant along two of their axes, of course - that's what it means to be \"regular.\"\n",
    "\n",
    "We will use the grid edges (formally, the node positions where the grid box boundaries intersect) instead of the grid cell centers, since we want to think of a mesh that (in this case) wraps around the earth elliposid, with some distortion of the shape of those cell interiors. Specifically, the great circle distance along the elliposid along lontitude changes substantially with latitude. There is also a subtle expansion of the cells in altitude, in a sort of conical expansion."
   ]
  },
  {
   "cell_type": "code",
   "execution_count": 5,
   "id": "0a0e5aa7",
   "metadata": {},
   "outputs": [
    {
     "name": "stdout",
     "output_type": "stream",
     "text": [
      "[-97.5792 -97.4792 -97.3792 -97.2792 -97.1792 -97.0792 -96.9792 -96.8792\n",
      " -96.7792 -96.6792 -96.5792 -96.4792 -96.3792 -96.2792 -96.1792 -96.0792\n",
      " -95.9792 -95.8792 -95.7792 -95.6792 -95.5792 -95.4792 -95.3792 -95.2792\n",
      " -95.1792 -95.0792 -94.9792 -94.8792 -94.7792 -94.6792 -94.5792 -94.4792\n",
      " -94.3792 -94.2792 -94.1792 -94.0792 -93.9792 -93.8792 -93.7792 -93.6792\n",
      " -93.5792 -93.4792 -93.3792 -93.2792 -93.1792 -93.0792 -92.9792 -92.8792\n",
      " -92.7792 -92.6792 -92.5792]\n",
      "[26.9719 27.0719 27.1719 27.2719 27.3719 27.4719 27.5719 27.6719 27.7719\n",
      " 27.8719 27.9719 28.0719 28.1719 28.2719 28.3719 28.4719 28.5719 28.6719\n",
      " 28.7719 28.8719 28.9719 29.0719 29.1719 29.2719 29.3719 29.4719 29.5719\n",
      " 29.6719 29.7719 29.8719 29.9719 30.0719 30.1719 30.2719 30.3719 30.4719\n",
      " 30.5719 30.6719 30.7719 30.8719 30.9719 31.0719 31.1719 31.2719 31.3719\n",
      " 31.4719 31.5719 31.6719 31.7719 31.8719 31.9719]\n",
      "[ -500.   500.  1500.  2500.  3500.  4500.  5500.  6500.  7500.  8500.\n",
      "  9500. 10500. 11500. 12500. 13500. 14500. 15500. 16500. 17500. 18500.\n",
      " 19500. 20500. 21500. 22500. 23500. 24500. 25500. 26500. 27500. 28500.\n",
      " 29500. 30500. 31500. 32500. 33500. 34500. 35500. 36500. 37500. 38500.\n",
      " 39500. 40500. 41500. 42500. 43500. 44500. 45500. 46500. 47500. 48500.\n",
      " 49500.]\n"
     ]
    }
   ],
   "source": [
    "lon_edge_3d, lat_edge_3d, alt_edge_3d,  = np.meshgrid(lon_edge, lat_edge, alt_edge, indexing='ij')\n",
    "lon_3d, lat_3d, alt_3d,  = np.meshgrid(lon, lat, alt, indexing='ij')\n",
    "\n",
    "print(lon_edge_3d[:,0,0])\n",
    "print(lat_edge_3d[0,:,0])\n",
    "print(alt_edge_3d[0,0,:])"
   ]
  },
  {
   "cell_type": "code",
   "execution_count": 6,
   "id": "f9f2dc1a",
   "metadata": {},
   "outputs": [],
   "source": [
    "zi_at_ground = 0 # actually the edge 0.5 dz below the ellipsoid (500 m for 1 km spacing).\n",
    "zi_top = -1 # actually the edge 0.5 dz below the ellipsoid (500 m for 1 km spacing).\n",
    "yi_north_edge = -1\n",
    "yi_south_edge = 0\n",
    "xi_east_edge = -1\n",
    "xi_west_edge = 0"
   ]
  },
  {
   "cell_type": "markdown",
   "id": "087898be",
   "metadata": {},
   "source": [
    "The indexing order above corresponds to variation along lon, lat, alt, or east, north, and up. These are x, y, z in the local reference frame tangent to the ground as they are commonly used in meteorology."
   ]
  },
  {
   "cell_type": "markdown",
   "id": "75376d00",
   "metadata": {},
   "source": [
    "Now, we convert to ECEF coordinates. These will be ordinary distances in meters."
   ]
  },
  {
   "cell_type": "code",
   "execution_count": 7,
   "id": "d4278866",
   "metadata": {},
   "outputs": [],
   "source": [
    "Xecef_edge_3d, Yecef_edge_3d, Zecef_edge_3d = lla_to_ecef.transform(lon_edge_3d, lat_edge_3d, alt_edge_3d)"
   ]
  },
  {
   "cell_type": "code",
   "execution_count": 8,
   "id": "0b589cce",
   "metadata": {},
   "outputs": [
    {
     "name": "stdout",
     "output_type": "stream",
     "text": [
      "[-750208.21416856 -740366.62826717 -730522.78708064 -720676.72059501\n",
      " -710828.45880311 -700978.03170444 -691125.46930512 -681270.80161776\n",
      " -671414.05866139 -661555.27046137 -651694.46704925 -641831.67846277\n",
      " -631966.93474569 -622100.26594773 -612231.70212447 -602361.27333726\n",
      " -592489.00965316 -582614.94114478 -572739.09789025 -562861.5099731\n",
      " -552982.20748217 -543101.22051154 -533218.57916041 -523334.31353301\n",
      " -513448.45373854 -503561.02989103 -493672.07210929 -483781.6105168\n",
      " -473889.67524163 -463996.29641633 -454101.50417784 -444205.32866741\n",
      " -434307.80003052 -424408.94841675 -414508.80397972 -404607.39687698\n",
      " -394704.75726995 -384800.91532377 -374895.90120727 -364989.74509284\n",
      " -355082.47715635 -345174.12757705 -335264.7265375  -325354.30422345\n",
      " -315442.89082376 -305530.51653033 -295617.21153795 -285703.00604428\n",
      " -275787.9302497  -265872.01435726 -255955.28857256]\n",
      "[-5638161.54111362 -5633171.75231946 -5628164.8240174  -5623140.77079247\n",
      " -5618099.60728132 -5613041.34817216 -5607966.00820478 -5602873.60217052\n",
      " -5597764.1449122  -5592637.65132414 -5587494.13635211 -5582333.61499331\n",
      " -5577156.10229633 -5571961.61336115 -5566750.16333908 -5561521.76743276\n",
      " -5556276.44089611 -5551014.1990343  -5545735.05720376 -5540439.03081209\n",
      " -5535126.13531811 -5529796.38623174 -5524449.79911404 -5519086.38957716\n",
      " -5513706.17328432 -5508309.16594974 -5502895.38333866 -5497464.84126729\n",
      " -5492017.55560279 -5486553.54226321 -5481072.8172175  -5475575.39648546\n",
      " -5470061.29613769 -5464530.5322956  -5458983.12113136 -5453419.07886786\n",
      " -5447838.42177869 -5442241.16618811 -5436627.32847101 -5430996.92505288\n",
      " -5425349.97240981 -5419686.48706839 -5414006.48560574 -5408309.98464945\n",
      " -5402597.00087756 -5396867.55101853 -5391121.65185118 -5385359.32020468\n",
      " -5379580.57295853 -5373785.42704248 -5367973.89943657]\n",
      "[2875214.23969819 2875667.79316032 2876121.34662245 2876574.90008457\n",
      " 2877028.4535467  2877482.00700883 2877935.56047096 2878389.11393309\n",
      " 2878842.66739522 2879296.22085734 2879749.77431947 2880203.3277816\n",
      " 2880656.88124373 2881110.43470586 2881563.98816799 2882017.54163011\n",
      " 2882471.09509224 2882924.64855437 2883378.2020165  2883831.75547863\n",
      " 2884285.30894075 2884738.86240288 2885192.41586501 2885645.96932714\n",
      " 2886099.52278927 2886553.0762514  2887006.62971352 2887460.18317565\n",
      " 2887913.73663778 2888367.29009991 2888820.84356204 2889274.39702417\n",
      " 2889727.95048629 2890181.50394842 2890635.05741055 2891088.61087268\n",
      " 2891542.16433481 2891995.71779694 2892449.27125906 2892902.82472119\n",
      " 2893356.37818332 2893809.93164545 2894263.48510758 2894717.03856971\n",
      " 2895170.59203183 2895624.14549396 2896077.69895609 2896531.25241822\n",
      " 2896984.80588035 2897438.35934247 2897891.9128046 ]\n"
     ]
    }
   ],
   "source": [
    "print(Xecef_edge_3d[:,0,0])\n",
    "print(Yecef_edge_3d[0,:,0])\n",
    "print(Zecef_edge_3d[0,0,:])"
   ]
  },
  {
   "cell_type": "markdown",
   "id": "072a44b6",
   "metadata": {},
   "source": [
    "## Tests\n",
    "\n",
    "Since our grid was regular in latitude, longitude and altitude, we should observe\n",
    "1. a difference in the east-west spacing as we move north-south\n",
    "2. not much difference in north-south spacing as we move east-west (only that due to the ellipsoid's oblateness)\n",
    "3. larger spacing at higher altitudes\n",
    "4. No difference in altitude spacing regardless of position\n",
    "\n",
    "The distances along the edges use all three ECEF coordinates, since they do not vary regularly with lon,lat,alt.\n",
    "\n",
    "We are going to calculate grid spacings as though the earth is locally flat over the 0.1 deg spacing of our grid. Strictly speaking, the edges of our grid boxes make a chord with the earth's curvature."
   ]
  },
  {
   "cell_type": "markdown",
   "id": "13758166",
   "metadata": {},
   "source": [
    "1. Here is where we expect the largest difference: it's about 500 m for a 0.1 deg spacing in lat and lon across a 5 deg span."
   ]
  },
  {
   "cell_type": "code",
   "execution_count": 9,
   "id": "85a60b62",
   "metadata": {},
   "outputs": [
    {
     "name": "stdout",
     "output_type": "stream",
     "text": [
      "Difference in east-west spacing as we move north-south, along west edge\n",
      "9451.453419873573\n",
      "9927.17590991852\n",
      "Difference in east-west spacing as we move north-south, along east edge\n",
      "9451.453419873615\n",
      "9927.175909918531\n",
      "There is a change in east-west distance due to the narrowing of lines of longitude toward the poles.\n",
      "The pairs are identifical no matter their longitudintal position, as it should be geometrically\n"
     ]
    }
   ],
   "source": [
    "# Calculate all E-W spacings. We move east, along a line of latitude, and calculate for all longitudes and altitudes\n",
    "left_edges = slice(None, -1)\n",
    "right_edges = slice(1, None)\n",
    "ew_spacing_X = (Xecef_edge_3d[right_edges, :, :] - Xecef_edge_3d[left_edges, :, :])\n",
    "ew_spacing_Y = (Yecef_edge_3d[right_edges, :, :] - Yecef_edge_3d[left_edges, :, :])\n",
    "ew_spacing_Z = (Zecef_edge_3d[right_edges, :, :] - Zecef_edge_3d[left_edges, :, :])\n",
    "\n",
    "ew_distances = distance_3d(ew_spacing_X, ew_spacing_Y, ew_spacing_Z)\n",
    "\n",
    "print(\"Difference in east-west spacing as we move north-south, along west edge\")\n",
    "print(ew_distances[xi_west_edge, yi_north_edge, zi_at_ground])\n",
    "print(ew_distances[xi_west_edge, yi_south_edge, zi_at_ground])\n",
    "\n",
    "print(\"Difference in east-west spacing as we move north-south, along east edge\")\n",
    "print(ew_distances[xi_east_edge, yi_north_edge, zi_at_ground])\n",
    "print(ew_distances[xi_east_edge, yi_south_edge, zi_at_ground])\n",
    "\n",
    "print(\"There is a change in east-west distance due to the narrowing of lines of longitude toward the poles.\")\n",
    "print(\"The pairs are identifical no matter their longitudintal position, as it should be geometrically\")"
   ]
  },
  {
   "cell_type": "markdown",
   "id": "17c51721",
   "metadata": {},
   "source": [
    "2. Here is the difference due to oblateness: about 10 m for a 0.1 deg lat lon spacing across a 5 deg span."
   ]
  },
  {
   "cell_type": "code",
   "execution_count": 10,
   "id": "61285846",
   "metadata": {},
   "outputs": [
    {
     "name": "stdout",
     "output_type": "stream",
     "text": [
      "Difference in north-south spacing as we move east-west, along south edge\n",
      "11079.512436728495\n",
      "11079.512436728604\n",
      "Difference in north-south spacing as we move east-west, along north edge\n",
      "11087.670300165752\n",
      "11087.67030016583\n",
      "The north-south spacing is not identical along the northern and southern edges, since the earth is oblate.\n",
      "There is no difference in in the north-south spacing along each edge, as expected from geometry.\n"
     ]
    }
   ],
   "source": [
    "# Calculate all N-S spacings. We move north, along a line of longitude, and calculate for all longitudes and altitudes\n",
    "# This is indexing like a[1:] - a[:-1]\n",
    "left_edges = slice(None, -1)\n",
    "right_edges = slice(1, None)\n",
    "ns_spacing_X = (Xecef_edge_3d[:, right_edges, :] - Xecef_edge_3d[:, left_edges, :])\n",
    "ns_spacing_Y = (Yecef_edge_3d[:, right_edges, :] - Yecef_edge_3d[:, left_edges, :])\n",
    "ns_spacing_Z = (Zecef_edge_3d[:, right_edges, :] - Zecef_edge_3d[:, left_edges, :])\n",
    "\n",
    "ns_distances = distance_3d(ns_spacing_X, ns_spacing_Y, ns_spacing_Z)\n",
    "\n",
    "print(\"Difference in north-south spacing as we move east-west, along south edge\")\n",
    "print(ns_distances[xi_east_edge, yi_south_edge, zi_at_ground])\n",
    "print(ns_distances[xi_west_edge, yi_south_edge, zi_at_ground])\n",
    "\n",
    "print(\"Difference in north-south spacing as we move east-west, along north edge\")\n",
    "print(ns_distances[xi_east_edge, yi_north_edge, zi_at_ground])\n",
    "print(ns_distances[xi_west_edge, yi_north_edge, zi_at_ground])\n",
    "\n",
    "print(\"The north-south spacing is not identical along the northern and southern edges, since the earth is oblate.\")\n",
    "print(\"There is no difference in in the north-south spacing along each edge, as expected from geometry.\")"
   ]
  },
  {
   "cell_type": "markdown",
   "id": "5ffb6577",
   "metadata": {},
   "source": [
    "3. Here is the difference in east west and north south spacing as a function of altitude. There's about a 70 m increase in e-w spacing (at this latitude) at the top of the column, and a 100 m increase in n-s spacing, for a 50 km depth (troposphere and stratosphere)."
   ]
  },
  {
   "cell_type": "code",
   "execution_count": 11,
   "id": "ad3fff17",
   "metadata": {},
   "outputs": [
    {
     "name": "stdout",
     "output_type": "stream",
     "text": [
      "Spacing at ground and top in east-west direction, northwest corner\n",
      "9451.453419873573\n",
      "9525.482238923145\n",
      "Spacing at ground and top in east-west direction, southwest corner\n",
      "9927.17590991852\n",
      "10004.950308439165\n",
      "Spacing at ground and top in north-south direction, northwest corner\n",
      "11087.67030016583\n",
      "11174.936751690027\n",
      "Spacing at ground and top in north-south direction, southwest corner\n",
      "11079.512436728604\n",
      "11166.778888252507\n"
     ]
    }
   ],
   "source": [
    "# Calculate all N-S spacings. We move north, along a line of longitude, and calculate for all longitudes and altitudes\n",
    "# This is indexing like a[1:] - a[:-1]\n",
    "\n",
    "\n",
    "print(\"Spacing at ground and top in east-west direction, northwest corner\")\n",
    "print(ew_distances[xi_west_edge, yi_north_edge, zi_at_ground])\n",
    "print(ew_distances[xi_west_edge, yi_north_edge, zi_top])\n",
    "\n",
    "print(\"Spacing at ground and top in east-west direction, southwest corner\")\n",
    "print(ew_distances[xi_west_edge, yi_south_edge, zi_at_ground])\n",
    "print(ew_distances[xi_west_edge, yi_south_edge, zi_top])\n",
    "\n",
    "print(\"Spacing at ground and top in north-south direction, northwest corner\")\n",
    "print(ns_distances[xi_west_edge, yi_north_edge, zi_at_ground])\n",
    "print(ns_distances[xi_west_edge, yi_north_edge, zi_top])\n",
    "\n",
    "print(\"Spacing at ground and top in north-south direction, southwest corner\")\n",
    "print(ns_distances[xi_west_edge, yi_south_edge, zi_at_ground])\n",
    "print(ns_distances[xi_west_edge, yi_south_edge, zi_top])\n",
    "\n"
   ]
  },
  {
   "cell_type": "markdown",
   "id": "6fd68067",
   "metadata": {},
   "source": [
    "4. Here is the difference in vertical spacing as a function of horizontal position. No difference."
   ]
  },
  {
   "cell_type": "code",
   "execution_count": 12,
   "id": "12d480e6",
   "metadata": {},
   "outputs": [
    {
     "name": "stdout",
     "output_type": "stream",
     "text": [
      "Difference in vertical spacing as we move up, southeast corner\n",
      "1000.000000000558\n",
      "1000.0000000005568\n",
      "Difference in vertical spacing as we move up, northeast corner\n",
      "1000.0000000000877\n",
      "999.9999999998411\n",
      "Difference in vertical spacing as we move up, northwest corner\n",
      "999.999999999273\n",
      "999.9999999990395\n",
      "Difference in vertical spacing as we move up, southwest corner\n",
      "1000.0000000005921\n",
      "999.9999999997692\n",
      "There is no difference in the vertical spacing, as it should be given the definition of our grid.\n"
     ]
    }
   ],
   "source": [
    "# Calculate all N-S spacings. We move north, along a line of longitude, and calculate for all longitudes and altitudes\n",
    "# This is indexing like a[1:] - a[:-1]\n",
    "left_edges = slice(None, -1)\n",
    "right_edges = slice(1, None)\n",
    "ud_spacing_X = (Xecef_edge_3d[:, :, right_edges] - Xecef_edge_3d[:, :, left_edges])\n",
    "ud_spacing_Y = (Yecef_edge_3d[:, :, right_edges] - Yecef_edge_3d[:, :, left_edges])\n",
    "ud_spacing_Z = (Zecef_edge_3d[:, :, right_edges] - Zecef_edge_3d[:, :, left_edges])\n",
    "\n",
    "ud_distances = distance_3d(ud_spacing_X, ud_spacing_Y, ud_spacing_Z)\n",
    "\n",
    "print(\"Difference in vertical spacing as we move up, southeast corner\")\n",
    "print(ud_distances[xi_east_edge, yi_south_edge, zi_at_ground])\n",
    "print(ud_distances[xi_east_edge, yi_south_edge, zi_top])\n",
    "\n",
    "print(\"Difference in vertical spacing as we move up, northeast corner\")\n",
    "print(ud_distances[xi_east_edge, yi_north_edge, zi_at_ground])\n",
    "print(ud_distances[xi_east_edge, yi_north_edge, zi_top])\n",
    "\n",
    "print(\"Difference in vertical spacing as we move up, northwest corner\")\n",
    "print(ud_distances[xi_west_edge, yi_north_edge, zi_at_ground])\n",
    "print(ud_distances[xi_west_edge, yi_north_edge, zi_top])\n",
    "\n",
    "print(\"Difference in vertical spacing as we move up, southwest corner\")\n",
    "print(ud_distances[xi_west_edge, yi_south_edge, zi_at_ground])\n",
    "print(ud_distances[xi_west_edge, yi_south_edge, zi_top])\n",
    "\n",
    "\n",
    "print(\"There is no difference in the vertical spacing, as it should be given the definition of our grid.\")"
   ]
  },
  {
   "cell_type": "markdown",
   "id": "19469639",
   "metadata": {},
   "source": [
    "## Summary\n",
    "\n",
    "For a regular latitude, longitude grid, at the latitude of Houston:\n",
    "\n",
    "- The largest difference is in the east-west spacing with north-south position, about 500 m / 10000 m\n",
    "- The difference due to oblateness in n-s spacing with n-s position is 50x smaller, about 10 m / 10000 m\n",
    "- The difference in spacing as a function of altitude is in between the above, and surprisingly large: 100 m / 10000 m\n",
    "- Altitude spacing remains constant.\n",
    "\n",
    "It is also a hypothesis that the rate of change of these spacings with position on the earth's surface (in the limit of small dx, dy) are related to the proj4 map factors.\n",
    "\n",
    "The calculations above are easily adjusted to try other locations and grid spacings.\n",
    "\n",
    "**Extension to map projections and model grid coordinates**\n",
    "\n",
    "One could also compare the distances calculate in the exercise above to the stereographic x, y coordinate distances. Note we already defined the necessary stereographic coordinate system …\n",
    "\n",
    "The same process as above could be done to convert a (for example) stereographic model grid to ECEF, from which the exact volumes could be calculated. Define a new proj4.Transformer.from_crs(stereo, lla), convert a meshgrid of 2D model x, y coords to (lat, lon), and replicate the 2D lat lon over the number of sigma coordinates to get 3D lon, lat grids. The 3D alt grid can be calcualted from the height information of each model sigma level at each model grid point. Then convert to ECEF!"
   ]
  },
  {
   "cell_type": "markdown",
   "id": "114640b3",
   "metadata": {},
   "source": [
    "## Bonus: grid volumes\n",
    "\n",
    "These are the exact volumes in m$^3$ of our 3D mesh. \n",
    "\n",
    "While the volumes are not cubes, they are (I think) guaranteed to be convex since the faces are all planar and the postions are monotonic. So we can use the convex hull. We also try an approximate calculation using the simple spacings.\n",
    "\n",
    "For a 0.1 deg grid that's about 10 km horizonal, and with 1 km vertical spacing we should have volumes of about 10x10x1=100 km$^3$"
   ]
  },
  {
   "cell_type": "code",
   "execution_count": 13,
   "id": "cf44082a",
   "metadata": {},
   "outputs": [
    {
     "name": "stdout",
     "output_type": "stream",
     "text": [
      "Convex hull min, max volumes\n",
      "104.86771219542136\n",
      "111.6561359538487\n",
      "Approximate min, max volumes\n",
      "104.86779184139247\n",
      "111.65622075874296\n"
     ]
    }
   ],
   "source": [
    "import numpy as np\n",
    "from scipy.spatial import ConvexHull\n",
    "\n",
    "# Need an Mx8x3 array for M grid boxes with 8 corners.\n",
    "# WSB, ESB, \n",
    "# ENB, WNB, \n",
    "# WST, EST, \n",
    "# ENT, WNT (east west north south bottom top)\n",
    "# S,W,B are :-1\n",
    "# N,E,T are 1:\n",
    "x_corners = [Xecef_edge_3d[:-1,:-1,:-1], Xecef_edge_3d[ 1:,:-1,:-1],\n",
    "             Xecef_edge_3d[ 1:, 1:,:-1], Xecef_edge_3d[:-1, 1:,:-1],\n",
    "             Xecef_edge_3d[:-1,:-1, 1:], Xecef_edge_3d[ 1:,:-1, 1:],\n",
    "             Xecef_edge_3d[ 1:, 1:, 1:], Xecef_edge_3d[:-1, 1:, 1:],]\n",
    "y_corners = [Yecef_edge_3d[:-1,:-1,:-1], Yecef_edge_3d[ 1:,:-1,:-1],\n",
    "             Yecef_edge_3d[ 1:, 1:,:-1], Yecef_edge_3d[:-1, 1:,:-1],\n",
    "             Yecef_edge_3d[:-1,:-1, 1:], Yecef_edge_3d[ 1:,:-1, 1:],\n",
    "             Yecef_edge_3d[ 1:, 1:, 1:], Yecef_edge_3d[:-1, 1:, 1:],]\n",
    "z_corners = [Zecef_edge_3d[:-1,:-1,:-1], Zecef_edge_3d[ 1:,:-1,:-1],\n",
    "             Zecef_edge_3d[ 1:, 1:,:-1], Zecef_edge_3d[:-1, 1:,:-1],\n",
    "             Zecef_edge_3d[:-1,:-1, 1:], Zecef_edge_3d[ 1:,:-1, 1:],\n",
    "             Zecef_edge_3d[ 1:, 1:, 1:], Zecef_edge_3d[:-1, 1:, 1:],]\n",
    "\n",
    "\n",
    "# Get an Mx8 array\n",
    "x_corner_points = np.vstack([a.flatten() for a in x_corners])\n",
    "y_corner_points = np.vstack([a.flatten() for a in y_corners])\n",
    "z_corner_points = np.vstack([a.flatten() for a in z_corners])\n",
    "point_stack = np.asarray((x_corner_points,y_corner_points,z_corner_points)).T\n",
    "\n",
    "volumes = np.fromiter((ConvexHull(polygon).volume for polygon in point_stack), \n",
    "            dtype=float, count=point_stack.shape[0])\n",
    "volumes.shape=lon_3d.shape\n",
    "print(\"Convex hull min, max volumes\")\n",
    "print(volumes.min()/(1e3**3))\n",
    "print(volumes.max()/(1e3**3))\n",
    "\n",
    "# Approximate version. Shapes are (50,51,51) (51,50,51) (51,51,50) to start.\n",
    "# There are actually four E-W distances at the S, N, bottom, and top edges of each box,\n",
    "# and so on.\n",
    "ew_mean = (ew_distances[:,1:,1:]+ew_distances[:,1:,:-1]+ew_distances[:,:-1,1:]+ew_distances[:,:-1,:-1])/4\n",
    "ns_mean = (ns_distances[1:,:,1:]+ns_distances[1:,:,:-1]+ns_distances[:-1,:,1:]+ns_distances[:-1,:,:-1])/4\n",
    "ud_mean = (ud_distances[1:,1:,:]+ud_distances[1:,:-1,:]+ud_distances[:-1,1:,:]+ud_distances[:-1,:-1,:])/4\n",
    "\n",
    "volumes_approx = ew_mean * ns_mean * ud_mean\n",
    "print(\"Approximate min, max volumes\")\n",
    "print(volumes_approx.min()/(1e3**3))\n",
    "print(volumes_approx.max()/(1e3**3))"
   ]
  },
  {
   "cell_type": "markdown",
   "id": "92cee129",
   "metadata": {},
   "source": [
    "It turns out the approximate volume calculation is quite good, without all the expense of the convex hull calculation!"
   ]
  },
  {
   "cell_type": "markdown",
   "id": "78215dbb",
   "metadata": {},
   "source": [
    "## Regularizing lat-lon\n",
    "\n",
    "Practically speaking, datasets might contain angles that are 0 to 360 longitude or various other departures from -180 to 180. No doubt we'd even find a -720 to -360 somewhere in the wild…"
   ]
  },
  {
   "cell_type": "code",
   "execution_count": 14,
   "id": "40fd85a8",
   "metadata": {},
   "outputs": [],
   "source": [
    "weird_lons = np.arange(-360, 360, 30)\n",
    "weird_lats = np.zeros_like(weird_lons)"
   ]
  },
  {
   "cell_type": "markdown",
   "id": "4eb4c443",
   "metadata": {},
   "source": [
    "Proj won't regularize it for us with an identity transformation:"
   ]
  },
  {
   "cell_type": "code",
   "execution_count": 15,
   "id": "c41280f1",
   "metadata": {},
   "outputs": [
    {
     "name": "stdout",
     "output_type": "stream",
     "text": [
      "(array([-360., -330., -300., -270., -240., -210., -180., -150., -120.,\n",
      "        -90.,  -60.,  -30.,    0.,   30.,   60.,   90.,  120.,  150.,\n",
      "        180.,  210.,  240.,  270.,  300.,  330.]), array([0., 0., 0., 0., 0., 0., 0., 0., 0., 0., 0., 0., 0., 0., 0., 0., 0.,\n",
      "       0., 0., 0., 0., 0., 0., 0.]))\n"
     ]
    }
   ],
   "source": [
    "lla_to_lla = proj4.Transformer.from_crs(lla, lla)\n",
    "print(lla_to_lla.transform(weird_lons, weird_lats))"
   ]
  },
  {
   "cell_type": "markdown",
   "id": "f4a900ca",
   "metadata": {},
   "source": [
    "But we do get that behavior if we're willing to bear a computational penalty of a round-trip through ECEF:"
   ]
  },
  {
   "cell_type": "code",
   "execution_count": 16,
   "id": "58c4c8e2",
   "metadata": {},
   "outputs": [
    {
     "name": "stdout",
     "output_type": "stream",
     "text": [
      "(array([   0.,   30.,   60.,   90.,  120.,  150., -180., -150., -120.,\n",
      "        -90.,  -60.,  -30.,    0.,   30.,   60.,   90.,  120.,  150.,\n",
      "        180., -150., -120.,  -90.,  -60.,  -30.]), array([0., 0., 0., 0., 0., 0., 0., 0., 0., 0., 0., 0., 0., 0., 0., 0., 0.,\n",
      "       0., 0., 0., 0., 0., 0., 0.]))\n"
     ]
    }
   ],
   "source": [
    "ecef_to_lla = proj4.Transformer.from_crs(ecef, lla)\n",
    "print(ecef_to_lla.transform(*lla_to_ecef.transform(weird_lons, weird_lats)))"
   ]
  },
  {
   "cell_type": "markdown",
   "id": "c7b1e6f4",
   "metadata": {},
   "source": [
    "This solution gives us a predictably-bounded set of coordinates, to which we could predictably apply other logic for shifting the data with respect to a center longitude of interest."
   ]
  }
 ],
 "metadata": {
  "kernelspec": {
   "display_name": "Python 3",
   "language": "python",
   "name": "python3"
  },
  "language_info": {
   "codemirror_mode": {
    "name": "ipython",
    "version": 3
   },
   "file_extension": ".py",
   "mimetype": "text/x-python",
   "name": "python",
   "nbconvert_exporter": "python",
   "pygments_lexer": "ipython3",
   "version": "3.6.12"
  }
 },
 "nbformat": 4,
 "nbformat_minor": 5
}
